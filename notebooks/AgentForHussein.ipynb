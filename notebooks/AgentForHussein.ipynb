{
 "cells": [
  {
   "cell_type": "markdown",
   "id": "5a4c1a67-7124-4753-a15b-2013443f82ee",
   "metadata": {},
   "source": [
    "- https://python.langchain.com/docs/modules/agents/quick_start"
   ]
  },
  {
   "cell_type": "code",
   "execution_count": null,
   "id": "22d3ce5f",
   "metadata": {},
   "outputs": [],
   "source": [
    "# Replace the following function _to_args_and_kwargs in \\\\Python311\\Lib\\site-packages\\langchain_core\\tools.py with the code below:\n",
    "\n",
    "def _to_args_and_kwargs(self, tool_input: Union[str, Dict]) -> Tuple[Tuple, Dict]:\n",
    "        \"\"\"Convert tool input to pydantic model.\"\"\"\n",
    "        args, kwargs = super()._to_args_and_kwargs(tool_input)\n",
    "        # For backwards compatibility. The tool must be run with a single input\n",
    "        all_args = list(args) + list(kwargs.values())\n",
    "        return tuple(all_args), {}"
   ]
  },
  {
   "cell_type": "code",
   "execution_count": 1,
   "id": "b506aca8",
   "metadata": {},
   "outputs": [],
   "source": [
    "from langchain.agents import AgentType, initialize_agent\n",
    "from langchain_core.pydantic_v1 import BaseModel, Field\n",
    "from langchain_core.tools import Tool\n",
    "\n",
    "from langchain_openai import AzureChatOpenAI\n",
    "\n",
    "llm = AzureChatOpenAI(\n",
    "    azure_endpoint=\"\",\n",
    "    openai_api_key=\"\",\n",
    "    openai_api_type=\"azure\",\n",
    "    openai_api_version=\"2023-07-01-preview\",\n",
    "    deployment_name=\"gpt-4-32k\",\n",
    "    temperature=0,\n",
    ")"
   ]
  },
  {
   "cell_type": "code",
   "execution_count": 2,
   "id": "9bf5338d",
   "metadata": {},
   "outputs": [],
   "source": [
    "class ExtentInput(BaseModel):\n",
    "    lat: float = Field(description=\"A latitude value\")\n",
    "    lon: float = Field(description=\"A longitude value\")\n",
    "    dist: float = Field(description=\"The extent width, height or distance\")\n",
    "    pass\n",
    "\n",
    "def calculate_extent(lat: float, lon: float, dist: float) -> str:\n",
    "    # Simplistic calculation of extent (not geographically accurate)\n",
    "    min_lat = lat - dist\n",
    "    max_lat = lat + dist\n",
    "    min_lon = lon - dist\n",
    "    max_lon = lon + dist\n",
    "    return f\"Extent: ({min_lat}, {min_lon}), ({max_lat}, {max_lon})\"\n",
    "\n",
    "async def acalculate_extent(lat: float, lon: float, dist: float) -> str:\n",
    "    # Async version of the calculate_extent function\n",
    "    return calculate_extent(lat, lon, dist)\n",
    "\n",
    "tools = [\n",
    "    Tool(\n",
    "        name=\"CalculateExtent\",\n",
    "        func=calculate_extent,\n",
    "        description=\"A tool that calculates an extent around a given point.\",\n",
    "        args_schema=ExtentInput,\n",
    "        coroutine=acalculate_extent,\n",
    "        return_direct=True,\n",
    "    )\n",
    "]"
   ]
  },
  {
   "cell_type": "code",
   "execution_count": 3,
   "id": "a8ac04f9",
   "metadata": {},
   "outputs": [],
   "source": [
    "from langchain import hub\n",
    "\n",
    "# Get the prompt to use - you can modify this!\n",
    "prompt = hub.pull(\"hwchase17/openai-functions-agent\")"
   ]
  },
  {
   "cell_type": "code",
   "execution_count": 4,
   "id": "3dd77126",
   "metadata": {},
   "outputs": [],
   "source": [
    "from langchain.agents import create_openai_functions_agent\n",
    "\n",
    "agent = create_openai_functions_agent(llm, tools, prompt)"
   ]
  },
  {
   "cell_type": "code",
   "execution_count": 5,
   "id": "0404a8a0",
   "metadata": {},
   "outputs": [],
   "source": [
    "from langchain.agents import AgentExecutor\n",
    "\n",
    "agent_executor = AgentExecutor(agent=agent, tools=tools, verbose=True, return_intermediate_steps=True)"
   ]
  },
  {
   "cell_type": "code",
   "execution_count": 6,
   "id": "7b0448f1",
   "metadata": {},
   "outputs": [
    {
     "name": "stdout",
     "output_type": "stream",
     "text": [
      "\n",
      "\n",
      "\u001b[1m> Entering new AgentExecutor chain...\u001b[0m\n",
      "\u001b[32;1m\u001b[1;3m\n",
      "Invoking: `CalculateExtent` with `{'lat': 33.8938, 'lon': 35.5018, 'dist': 2.4}`\n",
      "\n",
      "\n",
      "\u001b[0m\u001b[36;1m\u001b[1;3mExtent: (31.4938, 33.101800000000004), (36.2938, 37.9018)\u001b[0m\n",
      "\u001b[32;1m\u001b[1;3m\u001b[0m\n",
      "\n",
      "\u001b[1m> Finished chain.\u001b[0m\n"
     ]
    }
   ],
   "source": [
    "question = \"Calculate an extent of 2.4 degress around Beirut\"\n",
    "\n",
    "resp = agent_executor.invoke({\"input\": question})"
   ]
  }
 ],
 "metadata": {
  "kernelspec": {
   "display_name": "Python 3 (ipykernel)",
   "language": "python",
   "name": "python3"
  },
  "language_info": {
   "codemirror_mode": {
    "name": "ipython",
    "version": 3
   },
   "file_extension": ".py",
   "mimetype": "text/x-python",
   "name": "python",
   "nbconvert_exporter": "python",
   "pygments_lexer": "ipython3",
   "version": "3.11.7"
  }
 },
 "nbformat": 4,
 "nbformat_minor": 5
}
