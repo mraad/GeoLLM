{
 "cells": [
  {
   "cell_type": "markdown",
   "id": "5a4c1a67-7124-4753-a15b-2013443f82ee",
   "metadata": {},
   "source": [
    "- https://python.langchain.com/docs/modules/agents/quick_start"
   ]
  },
  {
   "cell_type": "code",
   "execution_count": 1,
   "id": "edde399f-aceb-4097-a224-3d86dbf643df",
   "metadata": {},
   "outputs": [],
   "source": [
    "import re\n",
    "from math import pi\n",
    "from typing import Dict, Optional, Tuple, Type, Union\n",
    "\n",
    "from langchain import hub\n",
    "from langchain.agents import create_react_agent\n",
    "from langchain.callbacks.manager import (\n",
    "    AsyncCallbackManagerForToolRun,\n",
    "    CallbackManagerForToolRun,\n",
    ")\n",
    "from langchain.memory import ConversationBufferMemory\n",
    "from langchain.pydantic_v1 import BaseModel, Field\n",
    "from langchain.tools import BaseTool, tool\n",
    "from langchain_community.llms import Ollama\n",
    "\n",
    "# from langchain_openai import AzureChatOpenAI, OpenAI"
   ]
  },
  {
   "cell_type": "code",
   "execution_count": 2,
   "id": "845e9435-e6f9-4476-a0bd-e8852ca45845",
   "metadata": {},
   "outputs": [],
   "source": [
    "# llm = AzureChatOpenAI(\n",
    "#     azure_endpoint=os.environ[\"AZURE_ENDPOINT\"],\n",
    "#     openai_api_key=os.environ[\"OPENAI_API_KEY\"],\n",
    "#     openai_api_type=\"azure\",\n",
    "#     openai_api_version=\"2023-05-15\",\n",
    "#     deployment_name=\"gpt-4-32k\",\n",
    "#     temperature=0.1,\n",
    "# )"
   ]
  },
  {
   "cell_type": "code",
   "execution_count": 24,
   "id": "f8104eeb-8104-4f43-bc79-953667a65f89",
   "metadata": {},
   "outputs": [],
   "source": [
    "llm = Ollama(model=\"mistral:latest\", temperature=0.0)"
   ]
  },
  {
   "cell_type": "markdown",
   "id": "7ae59135-35de-4cb2-9ec7-958d89e67565",
   "metadata": {},
   "source": [
    "## Get a prompt."
   ]
  },
  {
   "cell_type": "code",
   "execution_count": 25,
   "id": "5a0b522d-11fd-4d29-a7a3-397821870509",
   "metadata": {},
   "outputs": [],
   "source": [
    "prompt = hub.pull(\"hwchase17/react\")"
   ]
  },
  {
   "cell_type": "code",
   "execution_count": 26,
   "id": "d7089e7c-c1c7-4eaf-81ea-2ffb3611dec8",
   "metadata": {},
   "outputs": [
    {
     "name": "stdout",
     "output_type": "stream",
     "text": [
      "Answer the following questions as best you can. You have access to the following tools:\n",
      "\n",
      "{tools}\n",
      "\n",
      "Use the following format:\n",
      "\n",
      "Question: the input question you must answer\n",
      "Thought: you should always think about what to do\n",
      "Action: the action to take, should be one of [{tool_names}]\n",
      "Action Input: the input to the action\n",
      "Observation: the result of the action\n",
      "... (this Thought/Action/Action Input/Observation can repeat N times)\n",
      "Thought: I now know the final answer\n",
      "Final Answer: the final answer to the original input question\n",
      "\n",
      "Begin!\n",
      "\n",
      "Question: {input}\n",
      "Thought:{agent_scratchpad}\n"
     ]
    }
   ],
   "source": [
    "print(prompt.template)"
   ]
  },
  {
   "cell_type": "markdown",
   "id": "362bba8c-2d79-46fc-9b1d-e75baba25549",
   "metadata": {},
   "source": [
    "### Define a dummy locator."
   ]
  },
  {
   "cell_type": "code",
   "execution_count": 27,
   "id": "242d8d50-9bbd-4a50-82f5-d125f8a2ab8d",
   "metadata": {},
   "outputs": [],
   "source": [
    "class Locator:\n",
    "    def __init__(self, location: Dict) -> None:\n",
    "        \"\"\"Initialize with location table\"\"\"\n",
    "        self.locations = locations\n",
    "\n",
    "    def locate(self, query: str) -> Tuple[float, float]:\n",
    "        return self.locations.get(query.lower(), (None, None))"
   ]
  },
  {
   "cell_type": "markdown",
   "id": "4fbd21a2-4ffd-4475-8486-5c005fc54338",
   "metadata": {},
   "source": [
    "### Define the geocode tool input."
   ]
  },
  {
   "cell_type": "code",
   "execution_count": 28,
   "id": "2c7f1550-4819-4670-a20c-9a76bb03137e",
   "metadata": {},
   "outputs": [],
   "source": [
    "class GeocodeInput(BaseModel):\n",
    "    query: str = Field(description=\"should be the location to search and geocode\")"
   ]
  },
  {
   "cell_type": "markdown",
   "id": "d755cc9f-775c-4dc6-b24a-db973714d5f8",
   "metadata": {},
   "source": [
    "### Define the geocoder tool."
   ]
  },
  {
   "cell_type": "code",
   "execution_count": 29,
   "id": "6b7ba949-7a85-4d33-bbc8-b7f27a14ae4a",
   "metadata": {},
   "outputs": [],
   "source": [
    "class GeocodeTool(BaseTool):\n",
    "    name = \"geocode_tool\"\n",
    "    description = \"\"\"\n",
    "    Use this tool to get the latitude and longitude of an address, a place or a country.\n",
    "    \"\"\"\n",
    "    args_schema: Type[BaseModel] = GeocodeInput\n",
    "    return_direct: bool = True\n",
    "    locator: Locator = Field(exclude=True)\n",
    "\n",
    "    def _run(\n",
    "        self,\n",
    "        query: str,\n",
    "        run_manager: Optional[CallbackManagerForToolRun] = None,\n",
    "    ) -> Tuple[float, float]:\n",
    "        return self.locator.locate(query)\n",
    "\n",
    "    async def _arun(\n",
    "        self,\n",
    "        query: str,\n",
    "        run_manager: Optional[AsyncCallbackManagerForToolRun] = None,\n",
    "    ) -> Tuple[float, float]:\n",
    "        raise NotImplementedError(f\"{self.name} does not support async\")"
   ]
  },
  {
   "cell_type": "markdown",
   "id": "545e6936-edfc-4d0b-9b7f-ea30c22363d3",
   "metadata": {},
   "source": [
    "### Create a geocoder tool instance."
   ]
  },
  {
   "cell_type": "code",
   "execution_count": 30,
   "id": "718f88cd-c3e4-40c5-94de-6141b2515bf9",
   "metadata": {},
   "outputs": [],
   "source": [
    "locations = {\n",
    "    \"beirut, lebanon\": (33.8938, 35.5018),\n",
    "    \"beirut\": (33.8938, 35.5018),\n",
    "    \"boston\": (42.3601, -71.0589),\n",
    "    \"singapore\": (1.3521, 103.8198),\n",
    "}\n",
    "\n",
    "geocode_tool = GeocodeTool(locator=Locator(locations))"
   ]
  },
  {
   "cell_type": "code",
   "execution_count": 31,
   "id": "dfed15ea-e23c-4326-bc31-479e681667fe",
   "metadata": {},
   "outputs": [],
   "source": [
    "# geocode_tool.run(\"beirut\")"
   ]
  },
  {
   "cell_type": "markdown",
   "id": "60b38bc1-5e4b-4f27-823c-3eef191deb4a",
   "metadata": {},
   "source": [
    "### Create an extent calculator, input and tool."
   ]
  },
  {
   "cell_type": "code",
   "execution_count": 32,
   "id": "518da0be-fac7-4ea2-97ea-90ecc5a6763c",
   "metadata": {},
   "outputs": [],
   "source": [
    "class ExtentCalculator:\n",
    "    def calculate(\n",
    "        self,\n",
    "        lon: float,\n",
    "        lat: float,\n",
    "        dist: float,\n",
    "    ) -> Tuple[float, float, float, float]:\n",
    "        return lon - dist, lat - dist, lon + dist, lat + dist"
   ]
  },
  {
   "cell_type": "markdown",
   "id": "50e03a3e-ebf7-4a31-b518-c9a1a118255d",
   "metadata": {},
   "source": [
    "### Define Extent Tool Inputs."
   ]
  },
  {
   "cell_type": "code",
   "execution_count": 33,
   "id": "96569d01-0485-455b-8f19-fc42c56af60d",
   "metadata": {},
   "outputs": [],
   "source": [
    "class ExtentInput(BaseModel):\n",
    "    lon: float = Field(\n",
    "        description=\"A longitude value\",\n",
    "    )\n",
    "    lat: float = Field(\n",
    "        description=\"A latitude value\",\n",
    "    )\n",
    "    dist: float = Field(\n",
    "        description=\"The extent width, height or distance\",\n",
    "    )"
   ]
  },
  {
   "cell_type": "markdown",
   "id": "fae2863b-5981-4c10-a812-3a0c39ebbbd7",
   "metadata": {},
   "source": [
    "### Define Extent Tool."
   ]
  },
  {
   "cell_type": "code",
   "execution_count": 34,
   "id": "1c42b1eb-e330-49cc-b7ea-1d1263159ca3",
   "metadata": {},
   "outputs": [],
   "source": [
    "class ExtentTool(BaseTool):\n",
    "    name = \"extent_tool\"\n",
    "    description = \"\"\"\n",
    "    Use this tool to calculate an extent or a rectangle whose dimensions are proportional to a given distance\n",
    "    and is centered around given latitude and longitude values.\n",
    "    \"\"\"\n",
    "    args_schema: Type[BaseModel] = ExtentInput\n",
    "    return_direct: bool = True\n",
    "    calculator: ExtentCalculator = Field(exclude=True)\n",
    "\n",
    "    def _run(\n",
    "        self,\n",
    "        lon: float,\n",
    "        lat: float,\n",
    "        dist: float,\n",
    "        run_manager: Optional[CallbackManagerForToolRun] = None,\n",
    "    ) -> str:\n",
    "        return self.calculator.calculate(lon, lat, dist)\n",
    "\n",
    "    async def _arun(\n",
    "        self,\n",
    "        lon: float,\n",
    "        lat: float,\n",
    "        dist: float,\n",
    "        run_manager: Optional[AsyncCallbackManagerForToolRun] = None,\n",
    "    ) -> str:\n",
    "        raise NotImplementedError(f\"{self.name} does not support async\")"
   ]
  },
  {
   "cell_type": "markdown",
   "id": "80b95eb3-8f3a-499a-ab01-b7b7552fda53",
   "metadata": {},
   "source": [
    "### Create an extent tool instance."
   ]
  },
  {
   "cell_type": "code",
   "execution_count": 35,
   "id": "53e67d51-9e95-4181-9ca3-3957ad796494",
   "metadata": {},
   "outputs": [],
   "source": [
    "extent_tool = ExtentTool(calculator=ExtentCalculator())"
   ]
  },
  {
   "cell_type": "code",
   "execution_count": 36,
   "id": "aabc1c5b-8aa0-49b0-b445-b15ca71f2644",
   "metadata": {},
   "outputs": [],
   "source": [
    "def extract_float_from_string(input_string):\n",
    "    # Regular expression pattern to match a number (integer or decimal)\n",
    "    pattern = r\"\\d+(\\.\\d+)?\"\n",
    "\n",
    "    # Searching for the pattern in the input string\n",
    "    match = re.search(pattern, input_string)\n",
    "\n",
    "    # If a match is found, convert it to float and return\n",
    "    return float(match.group()) if match else None\n",
    "\n",
    "\n",
    "# Example usage\n",
    "# extract_float_from_string(\"7.81 mm\")"
   ]
  },
  {
   "cell_type": "code",
   "execution_count": 37,
   "id": "b4ac09fd-121d-453e-9502-9c51c5455857",
   "metadata": {},
   "outputs": [],
   "source": [
    "@tool\n",
    "def calculate_circumference(radius: Union[str, int, float]) -> float:\n",
    "    \"\"\"Use this tool when you need to calculate a circumference  of a circle using the radius.\"\"\"\n",
    "\n",
    "    # Regular expression pattern to match a number (integer or decimal)\n",
    "    pattern = r\"\\d+(\\.\\d+)?\"\n",
    "\n",
    "    # Searching for the pattern in the input string\n",
    "    match = re.search(pattern, radius)\n",
    "    return float(match.group()) * 2.0 * pi if match else float(\"NaN\")"
   ]
  },
  {
   "cell_type": "code",
   "execution_count": 38,
   "id": "36b5d885-bceb-460f-b508-368399b2821c",
   "metadata": {},
   "outputs": [],
   "source": [
    "@tool\n",
    "def calculate_area(radius: Union[str, int, float]) -> float:\n",
    "    \"\"\"Use this tool when you need to calculate an area of a circle using the radius.\"\"\"\n",
    "\n",
    "    # Regular expression pattern to match a number (integer or decimal)\n",
    "    pattern = r\"\\d+(\\.\\d+)?\"\n",
    "\n",
    "    # Searching for the pattern in the input string\n",
    "    match = re.search(pattern, radius)\n",
    "    rad = float(match.group())\n",
    "    return rad * rad * pi if match else float(\"NaN\")"
   ]
  },
  {
   "cell_type": "markdown",
   "id": "0f2d56b9-935b-409f-8343-d6b7c160f09e",
   "metadata": {},
   "source": [
    "### Define the tools."
   ]
  },
  {
   "cell_type": "code",
   "execution_count": 39,
   "id": "5db05d9a-915a-4e49-9504-6c61cf52ccba",
   "metadata": {},
   "outputs": [],
   "source": [
    "tools1 = [calculate_circumference, calculate_area, geocode_tool, extent_tool]\n",
    "# tools2 = load_tools([\"llm-math\"], llm=llm)"
   ]
  },
  {
   "cell_type": "code",
   "execution_count": 40,
   "id": "2288c649-37ae-44c1-aa72-4a82505690b2",
   "metadata": {},
   "outputs": [],
   "source": [
    "tools = tools1  # + tools2"
   ]
  },
  {
   "cell_type": "code",
   "execution_count": 41,
   "id": "c728471d-9089-4d13-b062-91a2e912b4a0",
   "metadata": {},
   "outputs": [],
   "source": [
    "agent = create_react_agent(llm, tools, prompt)"
   ]
  },
  {
   "cell_type": "code",
   "execution_count": 42,
   "id": "bae8cfac-faa3-4eda-9670-a28907efa74a",
   "metadata": {},
   "outputs": [],
   "source": [
    "from langchain.agents import AgentExecutor\n",
    "\n",
    "agent_executor = AgentExecutor(\n",
    "    agent=agent,\n",
    "    tools=tools,\n",
    "    verbose=True,\n",
    "    return_intermediate_steps=True,\n",
    "    handle_parsing_errors=True,\n",
    "    max_iterations=10,\n",
    "    early_stopping_method=\"generate\",\n",
    "    max_tokens=256,\n",
    ")"
   ]
  },
  {
   "cell_type": "code",
   "execution_count": 43,
   "id": "77769059-c315-427d-9c4f-f81f96672c5c",
   "metadata": {},
   "outputs": [
    {
     "name": "stdout",
     "output_type": "stream",
     "text": [
      "\n",
      "\n",
      "\u001b[1m> Entering new AgentExecutor chain...\u001b[0m\n",
      "\u001b[32;1m\u001b[1;3m To calculate an extent of 2 degrees around Beirut, I first need to find the latitude and longitude of Beirut using the geocode_tool. Then, I will use the extent_tool to calculate the extent based on the given degree value and the latitude and longitude of Beirut.\n",
      "\n",
      "Action: geocode_tool\n",
      "Action Input: Beirut\u001b[0m\u001b[38;5;200m\u001b[1;3m(33.8938, 35.5018)\u001b[0m\n",
      "\u001b[32;1m\u001b[1;3m\u001b[0m\n",
      "\n",
      "\u001b[1m> Finished chain.\u001b[0m\n"
     ]
    },
    {
     "data": {
      "text/plain": [
       "(33.8938, 35.5018)"
      ]
     },
     "execution_count": 43,
     "metadata": {},
     "output_type": "execute_result"
    }
   ],
   "source": [
    "resp = agent_executor.invoke(\n",
    "    {\"input\": \"Calculate an extent of 2 degress around Beirut\"}\n",
    ")\n",
    "resp[\"output\"]"
   ]
  },
  {
   "cell_type": "code",
   "execution_count": null,
   "id": "728da3de-0f1b-4d98-9637-96f93ce229f8",
   "metadata": {},
   "outputs": [],
   "source": [
    "# resp = agent_executor.invoke(\n",
    "#     {\n",
    "#         \"input\": \"What is the square root of the area of a circle with a 100 meter radius?\"\n",
    "#     }\n",
    "# )\n",
    "# resp[\"output\"]"
   ]
  },
  {
   "cell_type": "code",
   "execution_count": null,
   "id": "f1ff5dcf-15d2-46e4-a671-778a83e5e0ad",
   "metadata": {},
   "outputs": [],
   "source": []
  }
 ],
 "metadata": {
  "kernelspec": {
   "display_name": "Python 3 (ipykernel)",
   "language": "python",
   "name": "python3"
  },
  "language_info": {
   "codemirror_mode": {
    "name": "ipython",
    "version": 3
   },
   "file_extension": ".py",
   "mimetype": "text/x-python",
   "name": "python",
   "nbconvert_exporter": "python",
   "pygments_lexer": "ipython3",
   "version": "3.10.13"
  }
 },
 "nbformat": 4,
 "nbformat_minor": 5
}
