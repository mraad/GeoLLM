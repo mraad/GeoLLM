{
 "cells": [
  {
   "cell_type": "markdown",
   "id": "ec4c2cbb-2537-4529-8bb5-e200a5028419",
   "metadata": {},
   "source": [
    "# [PySpark AI](https://github.com/databrickslabs/pyspark-ai)\n",
    "\n",
    "```shell\n",
    "mamba install -c plotly plotly\n",
    "```\n",
    "\n",
    "or\n",
    "\n",
    "```\n",
    "pip install pyspark-ai plotly-express\n",
    "```\n",
    "\n",
    "Clean data rows using:\n",
    "\n",
    "```\n",
    "tr -d '\\r' < all_perth_310121.csv > all_perth_310121_new.csv\n",
    "```"
   ]
  },
  {
   "cell_type": "code",
   "execution_count": null,
   "id": "95a1d2b2-0031-4dfa-8e1a-bf35caafcbd3",
   "metadata": {},
   "outputs": [],
   "source": [
    "# import geofunctions as S\n",
    "import pyspark.sql.functions as F\n",
    "from langchain.chat_models import ChatOpenAI\n",
    "from pyspark_ai import SparkAI\n",
    "from pyspark.sql import SparkSession"
   ]
  },
  {
   "cell_type": "code",
   "execution_count": null,
   "id": "b10acdabb412f058",
   "metadata": {
    "collapsed": false,
    "jupyter": {
     "outputs_hidden": false
    }
   },
   "outputs": [],
   "source": [
    "spark = SparkSession.builder.appName(\"SparkAI\").getOrCreate()"
   ]
  },
  {
   "cell_type": "code",
   "execution_count": null,
   "id": "7a0f22e2-c3a9-4bec-8b13-551bf4ed2a25",
   "metadata": {},
   "outputs": [],
   "source": [
    "# S.st_register_functions()"
   ]
  },
  {
   "cell_type": "code",
   "execution_count": null,
   "id": "0201ede4-7d50-4c5b-ba82-4561ae0855ea",
   "metadata": {},
   "outputs": [],
   "source": [
    "llm = ChatOpenAI(model_name=\"gpt-3.5-turbo\", temperature=0)\n",
    "spark_ai = SparkAI(llm, verbose=True)\n",
    "spark_ai.activate()"
   ]
  },
  {
   "cell_type": "code",
   "execution_count": null,
   "id": "4202e9d2-ef84-4fc8-80dd-9e6edc4c084e",
   "metadata": {},
   "outputs": [],
   "source": [
    "schema = \",\".join(\n",
    "    [\n",
    "        \"`ADDRESS` string\",\n",
    "        \"`SUBURB` string\",\n",
    "        \"`PRICE` double\",\n",
    "        \"`BEDROOMS` integer\",\n",
    "        \"`BATHROOMS` integer\",\n",
    "        \"`GARAGE` integer\",\n",
    "        \"`LAND_AREA` double\",\n",
    "        \"`FLOOR_AREA` double\",\n",
    "        \"`BUILD_YEAR` int\",\n",
    "        \"`CBD_DIST` double\",\n",
    "        \"`NEAREST_STN` string\",\n",
    "        \"`NEAREST_STN_DIST` string\",\n",
    "        \"`DATE_SOLD` string\",\n",
    "        \"`POSTCODE` string\",\n",
    "        \"`LATITUDE` double\",\n",
    "        \"`LONGITUDE` double\",\n",
    "        \"`NEAREST_SCH` string\",\n",
    "        \"`NEAREST_SCH_DIST` double\",\n",
    "        \"`NEAREST_SCH_RANK` int\",\n",
    "    ]\n",
    ")"
   ]
  },
  {
   "cell_type": "code",
   "execution_count": null,
   "id": "a943ea9f-3243-45ba-8f2e-fd77d14ffb26",
   "metadata": {},
   "outputs": [],
   "source": [
    "df = spark.read.csv(\"../data/all_perth_310121_new.csv\", header=True, schema=schema).cache()"
   ]
  },
  {
   "cell_type": "code",
   "execution_count": null,
   "id": "d39d22ff-ae2e-496c-ade4-c30b801963bb",
   "metadata": {},
   "outputs": [],
   "source": [
    "df.count()"
   ]
  },
  {
   "cell_type": "code",
   "execution_count": null,
   "id": "305b1196-761e-4864-bfba-826510cf785f",
   "metadata": {},
   "outputs": [],
   "source": [
    "spark_ai.plot_df(\n",
    "    df, \"show distribution of NEAREST_SCH_DIST less than 8 miles in 32 bins\"\n",
    ")"
   ]
  },
  {
   "cell_type": "code",
   "execution_count": null,
   "id": "9555e4c2-c3e0-4606-b5c7-bafc4d2c2710",
   "metadata": {},
   "outputs": [],
   "source": [
    "df2 = spark_ai.transform_df(df, \"with 3 bedrooms and 2 garages\")"
   ]
  },
  {
   "cell_type": "code",
   "execution_count": null,
   "id": "0fce441e-d4f9-4d19-a2fe-39bf35b863fe",
   "metadata": {},
   "outputs": [],
   "source": [
    "spark_ai.plot_df(\n",
    "    df2,\n",
    "    \"show map of all locations using LONGITUDE and LATITUDE with only address column\",\n",
    ")"
   ]
  },
  {
   "cell_type": "code",
   "execution_count": null,
   "id": "29ec72db-d21d-4c69-9b13-77d5e4cf5da9",
   "metadata": {},
   "outputs": [],
   "source": [
    "# spark_ai.transform_df(\n",
    "#     df,\n",
    "#     \"Create regression model to calculate the price of the house using BEDROOMS,BATHROOMS and LAND_AREA\",\n",
    "# )"
   ]
  }
 ],
 "metadata": {
  "kernelspec": {
   "display_name": "Python 3 (ipykernel)",
   "language": "python",
   "name": "python3"
  },
  "language_info": {
   "codemirror_mode": {
    "name": "ipython",
    "version": 3
   },
   "file_extension": ".py",
   "mimetype": "text/x-python",
   "name": "python",
   "nbconvert_exporter": "python",
   "pygments_lexer": "ipython3",
   "version": "3.10.12"
  }
 },
 "nbformat": 4,
 "nbformat_minor": 5
}
