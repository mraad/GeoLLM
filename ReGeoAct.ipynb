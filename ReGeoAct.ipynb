{
 "cells": [
  {
   "cell_type": "markdown",
   "id": "5a4c1a67-7124-4753-a15b-2013443f82ee",
   "metadata": {},
   "source": [
    "## Notebook to demo ReAct geospatial logic with Ollama.\n",
    "\n",
    "Following is based on [this](https://python.langchain.com/docs/modules/agents/agent_types/react) reference."
   ]
  },
  {
   "cell_type": "code",
   "execution_count": 1,
   "id": "edde399f-aceb-4097-a224-3d86dbf643df",
   "metadata": {},
   "outputs": [],
   "source": [
    "import json\n",
    "import math\n",
    "import re\n",
    "from typing import Dict, Optional, Tuple, Type, Union\n",
    "\n",
    "from langchain import hub\n",
    "from langchain.agents import create_react_agent, load_tools\n",
    "from langchain.callbacks.manager import (\n",
    "    AsyncCallbackManagerForToolRun,\n",
    "    CallbackManagerForToolRun,\n",
    ")\n",
    "from langchain.pydantic_v1 import BaseModel, Field\n",
    "from langchain.tools import BaseTool, tool\n",
    "from langchain_core.tools import Tool\n",
    "from langchain_experimental.tools.python.tool import PythonREPLTool"
   ]
  },
  {
   "cell_type": "markdown",
   "id": "f165b214-6c42-4ce9-b7b9-87faf3d37ac1",
   "metadata": {},
   "source": [
    "### Create LLM backed by ollama.\n",
    "\n",
    "Set `temperature` to zero to return more precise responses."
   ]
  },
  {
   "cell_type": "code",
   "execution_count": 2,
   "id": "f8104eeb-8104-4f43-bc79-953667a65f89",
   "metadata": {},
   "outputs": [],
   "source": [
    "from langchain_community.llms import Ollama\n",
    "\n",
    "llm = Ollama(\n",
    "    model=\"mistral:latest\",\n",
    "    temperature=0.0,\n",
    ")"
   ]
  },
  {
   "cell_type": "markdown",
   "id": "7ae59135-35de-4cb2-9ec7-958d89e67565",
   "metadata": {},
   "source": [
    "## Get a prompt."
   ]
  },
  {
   "cell_type": "code",
   "execution_count": 3,
   "id": "5a0b522d-11fd-4d29-a7a3-397821870509",
   "metadata": {},
   "outputs": [],
   "source": [
    "prompt = hub.pull(\"hwchase17/react\")"
   ]
  },
  {
   "cell_type": "code",
   "execution_count": 4,
   "id": "d7089e7c-c1c7-4eaf-81ea-2ffb3611dec8",
   "metadata": {},
   "outputs": [],
   "source": [
    "# print(prompt.template)"
   ]
  },
  {
   "cell_type": "markdown",
   "id": "362bba8c-2d79-46fc-9b1d-e75baba25549",
   "metadata": {},
   "source": [
    "### Define a dummy locator."
   ]
  },
  {
   "cell_type": "code",
   "execution_count": 5,
   "id": "242d8d50-9bbd-4a50-82f5-d125f8a2ab8d",
   "metadata": {},
   "outputs": [],
   "source": [
    "class Locator:\n",
    "    def __init__(\n",
    "            self,\n",
    "            locations: Dict[str, Tuple[float, float]],\n",
    "    ) -> None:\n",
    "        \"\"\"Initialize with location table\"\"\"\n",
    "        self.locations = locations\n",
    "\n",
    "    def locate(\n",
    "            self,\n",
    "            location: str,\n",
    "    ) -> str:\n",
    "        \"\"\"Locate input query.\n",
    "\n",
    "        :param location: The location to locate.\n",
    "        :return: json string containing lon/lat.\n",
    "        \"\"\"\n",
    "        lon, lat = self.locations.get(location.lower(), (None, None))\n",
    "        return json.dumps({\"lon\": lon, \"lat\": lat})"
   ]
  },
  {
   "cell_type": "markdown",
   "id": "4fbd21a2-4ffd-4475-8486-5c005fc54338",
   "metadata": {},
   "source": [
    "### Define the geocode tool input."
   ]
  },
  {
   "cell_type": "code",
   "execution_count": 6,
   "id": "2c7f1550-4819-4670-a20c-9a76bb03137e",
   "metadata": {},
   "outputs": [],
   "source": [
    "class GeocodeInput(BaseModel):\n",
    "    query: str = Field(description=\"An address, place or country to search and geocode\")"
   ]
  },
  {
   "cell_type": "markdown",
   "id": "d755cc9f-775c-4dc6-b24a-db973714d5f8",
   "metadata": {},
   "source": [
    "### Define the geocoder tool."
   ]
  },
  {
   "cell_type": "code",
   "execution_count": 7,
   "id": "6b7ba949-7a85-4d33-bbc8-b7f27a14ae4a",
   "metadata": {},
   "outputs": [],
   "source": [
    "class GeocodeTool(BaseTool):\n",
    "    name = \"geocode_tool\"\n",
    "    description = \"\"\"\n",
    "    Use this tool to get the latitude and longitude coordinate of an address, a location, a place or a country.\n",
    "    \"\"\"\n",
    "    args_schema: Type[BaseModel] = GeocodeInput\n",
    "    locator: Locator = Field(exclude=True)\n",
    "\n",
    "    def _run(\n",
    "            self,\n",
    "            query: str,\n",
    "            run_manager: Optional[CallbackManagerForToolRun] = None,\n",
    "    ) -> str:\n",
    "        \"\"\"Delegate to locator.\"\"\"\n",
    "        return self.locator.locate(query)\n",
    "\n",
    "    async def _arun(\n",
    "            self,\n",
    "            query: str,\n",
    "            run_manager: Optional[AsyncCallbackManagerForToolRun] = None,\n",
    "    ) -> str:\n",
    "        \"\"\"Run async locator.\"\"\"\n",
    "        return self.locator.locate(query)"
   ]
  },
  {
   "cell_type": "markdown",
   "id": "545e6936-edfc-4d0b-9b7f-ea30c22363d3",
   "metadata": {},
   "source": [
    "### Create a geocoder tool instance using a locator instance with dummy locations."
   ]
  },
  {
   "cell_type": "code",
   "execution_count": 8,
   "id": "718f88cd-c3e4-40c5-94de-6141b2515bf9",
   "metadata": {},
   "outputs": [],
   "source": [
    "locations = {\n",
    "    \"beirut, lebanon\": (33.8938, 35.5018),\n",
    "    \"beirut\": (33.8938, 35.5018),\n",
    "    \"boston\": (42.3601, -71.0589),\n",
    "    \"singapore\": (1.3521, 103.8198),\n",
    "}\n",
    "\n",
    "geocode_tool = GeocodeTool(locator=Locator(locations))"
   ]
  },
  {
   "cell_type": "code",
   "execution_count": 9,
   "id": "dfed15ea-e23c-4326-bc31-479e681667fe",
   "metadata": {},
   "outputs": [
    {
     "data": {
      "text/plain": [
       "'{\"lon\": 33.8938, \"lat\": 35.5018}'"
      ]
     },
     "execution_count": 9,
     "metadata": {},
     "output_type": "execute_result"
    }
   ],
   "source": [
    "geocode_tool.run(\"beirut\")"
   ]
  },
  {
   "cell_type": "markdown",
   "id": "60b38bc1-5e4b-4f27-823c-3eef191deb4a",
   "metadata": {},
   "source": [
    "### Create extent tool.\n",
    "\n",
    "Just another way to define a tool."
   ]
  },
  {
   "cell_type": "code",
   "execution_count": 10,
   "id": "fe976d5d-28d2-465d-81fb-c54d4751de15",
   "metadata": {},
   "outputs": [],
   "source": [
    "class ExtentInput(BaseModel):\n",
    "    doc: str = Field(description=\"A document with lon and lat keys.\")\n",
    "\n",
    "\n",
    "def calculate_extent(doc: str) -> str:\n",
    "    \"\"\"Calculate an extent from lon/lat values in the doc.\"\"\"\n",
    "    pattern = r\"\\d+\\.\\d+\"\n",
    "    tokens = re.findall(pattern, doc)\n",
    "    if len(tokens) == 2:\n",
    "        lon = float(tokens[0])\n",
    "        lat = float(tokens[1])\n",
    "        xmin = lon - 10.0\n",
    "        xmax = lon + 10.0\n",
    "        ymin = lat - 10.0\n",
    "        ymax = lat + 10.0\n",
    "        return json.dumps({\"xmin\": xmin, \"xmax\": xmax, \"ymin\": ymin, \"ymax\": ymax})\n",
    "    else:\n",
    "        return json.dumps({\"xmin\": 0.0, \"xmax\": 0.0, \"ymin\": 0.0, \"ymax\": 0.0})\n",
    "\n",
    "\n",
    "async def acalculate_extent(doc: str) -> str:\n",
    "    # Async version of the calculate_extent function\n",
    "    return calculate_extent(doc)\n",
    "\n",
    "\n",
    "extent_tool = Tool(\n",
    "    name=\"extent_tool\",\n",
    "    description=\"\"\"\n",
    "    A tool that calculates an extent around a given latitude and logitude values.\n",
    "    \"\"\",\n",
    "    args_schema=ExtentInput,\n",
    "    func=calculate_extent,\n",
    "    coroutine=acalculate_extent,\n",
    "    # return_direct=True,\n",
    ")"
   ]
  },
  {
   "cell_type": "markdown",
   "id": "b46f5bed-85f7-4591-bce1-a8331e654229",
   "metadata": {},
   "source": [
    "### Create tools using decorators."
   ]
  },
  {
   "cell_type": "code",
   "execution_count": 11,
   "id": "b4ac09fd-121d-453e-9502-9c51c5455857",
   "metadata": {},
   "outputs": [],
   "source": [
    "@tool\n",
    "def calculate_circumference(radius: Union[str, int, float]) -> float:\n",
    "    \"\"\"Use this tool when you need to calculate a circumference  of a circle using the radius.\"\"\"\n",
    "\n",
    "    # Regular expression pattern to match a number (integer or decimal)\n",
    "    pattern = r\"\\d+(\\.\\d+)?\"\n",
    "\n",
    "    # Searching for the pattern in the input string\n",
    "    match = re.search(pattern, radius)\n",
    "    return float(match.group()) * 2.0 * math.pi if match else float(\"NaN\")"
   ]
  },
  {
   "cell_type": "code",
   "execution_count": 12,
   "id": "36b5d885-bceb-460f-b508-368399b2821c",
   "metadata": {},
   "outputs": [],
   "source": [
    "@tool\n",
    "def calculate_area(radius: Union[str, int, float]) -> float:\n",
    "    \"\"\"Use this tool when you need to calculate an area of a circle using the radius.\"\"\"\n",
    "\n",
    "    # Regular expression pattern to match a number (integer or decimal)\n",
    "    pattern = r\"\\d+(\\.\\d+)?\"\n",
    "\n",
    "    # Searching for the pattern in the input string\n",
    "    match = re.search(pattern, radius)\n",
    "    rad = float(match.group())\n",
    "    return rad * rad * math.pi if match else float(\"NaN\")"
   ]
  },
  {
   "cell_type": "markdown",
   "id": "0f2d56b9-935b-409f-8343-d6b7c160f09e",
   "metadata": {},
   "source": [
    "### Define the tools."
   ]
  },
  {
   "cell_type": "code",
   "execution_count": 13,
   "id": "1ef19d74-a31f-478d-899f-5b378215081a",
   "metadata": {},
   "outputs": [],
   "source": [
    "repl = PythonREPLTool()  # A tool for running python code in a REPL."
   ]
  },
  {
   "cell_type": "code",
   "execution_count": 14,
   "id": "5db05d9a-915a-4e49-9504-6c61cf52ccba",
   "metadata": {},
   "outputs": [],
   "source": [
    "tools1 = [calculate_circumference, calculate_area, geocode_tool, extent_tool, repl]"
   ]
  },
  {
   "cell_type": "markdown",
   "id": "0d454ef5-ffaf-494b-9789-03628e5902ac",
   "metadata": {},
   "source": [
    "### Load tool to perform \"math\"."
   ]
  },
  {
   "cell_type": "code",
   "execution_count": 15,
   "id": "d35c2343-e091-484c-a8d0-51e340ea096e",
   "metadata": {},
   "outputs": [],
   "source": [
    "tools2 = load_tools([\"llm-math\"], llm=llm)"
   ]
  },
  {
   "cell_type": "code",
   "execution_count": 16,
   "id": "2288c649-37ae-44c1-aa72-4a82505690b2",
   "metadata": {},
   "outputs": [],
   "source": [
    "tools = tools1 + tools2"
   ]
  },
  {
   "cell_type": "markdown",
   "id": "88c8c364-4f28-45d0-a1e7-da6f8264b334",
   "metadata": {},
   "source": [
    "### Create ReAct Agent and Excutor."
   ]
  },
  {
   "cell_type": "code",
   "execution_count": 17,
   "id": "c728471d-9089-4d13-b062-91a2e912b4a0",
   "metadata": {},
   "outputs": [],
   "source": [
    "agent = create_react_agent(llm, tools, prompt)"
   ]
  },
  {
   "cell_type": "code",
   "execution_count": 18,
   "id": "bae8cfac-faa3-4eda-9670-a28907efa74a",
   "metadata": {},
   "outputs": [],
   "source": [
    "from langchain.agents import AgentExecutor\n",
    "\n",
    "agent_executor = AgentExecutor(\n",
    "    agent=agent,\n",
    "    tools=tools,\n",
    "    verbose=True,\n",
    "    return_intermediate_steps=True,\n",
    "    handle_parsing_errors=True,\n",
    "    max_iterations=10,\n",
    "    early_stopping_method=\"generate\",\n",
    "    max_tokens=512,\n",
    ")"
   ]
  },
  {
   "cell_type": "markdown",
   "id": "0370ab84-b35b-4b62-a797-5f90930729ac",
   "metadata": {},
   "source": [
    "### Invoke ReAct chain."
   ]
  },
  {
   "cell_type": "code",
   "execution_count": 19,
   "id": "77769059-c315-427d-9c4f-f81f96672c5c",
   "metadata": {},
   "outputs": [
    {
     "name": "stdout",
     "output_type": "stream",
     "text": [
      "\n",
      "\n",
      "\u001B[1m> Entering new AgentExecutor chain...\u001B[0m\n",
      "\u001B[32;1m\u001B[1;3m To calculate the extent for Beirut, I first need to find its latitude and longitude coordinates using the geocode_tool. Then, I can use the extent_tool to calculate the extent based on those coordinates.\n",
      "\n",
      "Action: geocode_tool\n",
      "Action Input: Beirut, Lebanon\u001B[0m\u001B[38;5;200m\u001B[1;3m{\"lon\": 33.8938, \"lat\": 35.5018}\u001B[0m\u001B[32;1m\u001B[1;3m Now that I have the latitude and longitude coordinates for Beirut, I can use the extent_tool to calculate the extent.\n",
      "\n",
      "Action: extent_tool\n",
      "Action Input: 35.5018, 33.8938\u001B[0m\u001B[36;1m\u001B[1;3m{\"xmin\": 25.501800000000003, \"xmax\": 45.5018, \"ymin\": 23.8938, \"ymax\": 43.8938}\u001B[0m\u001B[32;1m\u001B[1;3m I now know the final answer.\n",
      "\n",
      "Final Answer: The extent for Beirut is {\"xmin\": 25.5018, \"xmax\": 45.5018, \"ymin\": 23.8938, \"ymax\": 43.8938}\u001B[0m\n",
      "\n",
      "\u001B[1m> Finished chain.\u001B[0m\n"
     ]
    },
    {
     "data": {
      "text/plain": [
       "'The extent for Beirut is {\"xmin\": 25.5018, \"xmax\": 45.5018, \"ymin\": 23.8938, \"ymax\": 43.8938}'"
      ]
     },
     "execution_count": 19,
     "metadata": {},
     "output_type": "execute_result"
    }
   ],
   "source": [
    "resp = agent_executor.invoke(\n",
    "    {\n",
    "        \"input\": \"Calculate and return the extent for Beirut\",\n",
    "    }\n",
    ")\n",
    "resp[\"output\"]"
   ]
  },
  {
   "cell_type": "markdown",
   "id": "3765c2b4-25ff-4e4e-b5f6-d2b8157cfb4a",
   "metadata": {},
   "source": [
    "### Let's make the agent perform math."
   ]
  },
  {
   "cell_type": "code",
   "execution_count": 20,
   "id": "728da3de-0f1b-4d98-9637-96f93ce229f8",
   "metadata": {},
   "outputs": [
    {
     "name": "stdout",
     "output_type": "stream",
     "text": [
      "\n",
      "\n",
      "\u001B[1m> Entering new AgentExecutor chain...\u001B[0m\n",
      "\u001B[32;1m\u001B[1;3m To find the square root of the area of a circle with a given radius, I first need to calculate the area using the formula Area = πr², then find the square root of that value.\n",
      "\n",
      "Action: calculate_area\n",
      "Action Input: 100\u001B[0m\u001B[33;1m\u001B[1;3m31415.926535897932\u001B[0m"
     ]
    },
    {
     "name": "stderr",
     "output_type": "stream",
     "text": [
      "Python REPL can execute arbitrary code. Use with caution.\n"
     ]
    },
    {
     "name": "stdout",
     "output_type": "stream",
     "text": [
      "\u001B[32;1m\u001B[1;3m Now I have the area of the circle, which is approximately 31,416 square meters. To find the square root of this value, I will use Python's built-in `math.sqrt()` function.\n",
      "\n",
      "Action: Python_REPL\n",
      "Action Input: import math; print(math.sqrt(31415.926535897932))\u001B[0m\u001B[33;1m\u001B[1;3m177.2453850905516\n",
      "\u001B[0m\u001B[32;1m\u001B[1;3m I now know the final answer. The square root of the area of a circle with a 100 meter radius is approximately 177.25 meters.\u001B[0mInvalid Format: Missing 'Action:' after 'Thought:\u001B[32;1m\u001B[1;3m I apologize for the mistake in formatting. Here's the corrected version:\n",
      "\n",
      "Final Answer: The square root of the area of a circle with a 100 meter radius is approximately 177.25 meters.\u001B[0m\n",
      "\n",
      "\u001B[1m> Finished chain.\u001B[0m\n"
     ]
    },
    {
     "data": {
      "text/plain": [
       "'The square root of the area of a circle with a 100 meter radius is approximately 177.25 meters.'"
      ]
     },
     "execution_count": 20,
     "metadata": {},
     "output_type": "execute_result"
    }
   ],
   "source": [
    "resp = agent_executor.invoke(\n",
    "    {\n",
    "        \"input\": \"\"\"\n",
    "        What is the square root of the area of a circle with a 100 meter radius?\n",
    "        \"\"\"\n",
    "    }\n",
    ")\n",
    "resp[\"output\"]"
   ]
  }
 ],
 "metadata": {
  "kernelspec": {
   "display_name": "Python 3 (ipykernel)",
   "language": "python",
   "name": "python3"
  },
  "language_info": {
   "codemirror_mode": {
    "name": "ipython",
    "version": 3
   },
   "file_extension": ".py",
   "mimetype": "text/x-python",
   "name": "python",
   "nbconvert_exporter": "python",
   "pygments_lexer": "ipython3",
   "version": "3.11.7"
  }
 },
 "nbformat": 4,
 "nbformat_minor": 5
}
