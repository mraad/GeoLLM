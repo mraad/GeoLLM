{
 "cells": [
  {
   "cell_type": "markdown",
   "id": "d8b5dc53-36fd-43d0-af34-a624e67f7643",
   "metadata": {},
   "source": [
    "# [\"Arabic\" SDK for Apache Spark](https://github.com/pyspark-ai/pyspark-ai).\n",
    "\n",
    "Parts of this notebook were presented during my BigData and GenAI at the [Esri Saudi Arabia User Conference](https://www.esrisaudiarabia.com/en-sa/about/events/esrisaudi-uc2024/overview).\n",
    "\n",
    "It showcased ChatGPT Interaction with BigData using Apache Spark while asking the questions in Arabic.\n",
    "\n",
    "This project is based on the [English SDK for Apache Spark](https://github.com/pyspark-ai/pyspark-ai) and uses [HERE historical traffic data](https://www.esri.com/en-us/arcgis-marketplace/listing/products/566238f6f13c43db8ebbb9780c0f2a7a) for the Kingdom of Saudi Arabia.\n",
    "\n",
    "If you want to run something similar to this notebook, you need a conda environment with the following packages installed and have access to your own private GPT service.\n",
    "- pyspark-ai[all]\n",
    "- pyspark<3.5\n",
    "- seaborn>0.13.0\n",
    "\n",
    "IMHO, GPT-4 had the best responses in Spark SQL code generation to answer the questions in Arabic."
   ]
  },
  {
   "cell_type": "code",
   "execution_count": null,
   "id": "4833dedd-48ae-4608-ad2a-ea8bf355c8ef",
   "metadata": {},
   "outputs": [],
   "source": [
    "import os\n",
    "import warnings\n",
    "\n",
    "from langchain.chat_models import AzureChatOpenAI\n",
    "from pyspark_ai import SparkAI\n",
    "\n",
    "warnings.filterwarnings(\"ignore\")"
   ]
  },
  {
   "cell_type": "markdown",
   "id": "d5510a41-6585-4b63-b966-97fe9e9f5cca",
   "metadata": {},
   "source": [
    "## Create LLM Instance.\n",
    "\n",
    "Here (no pun intended), we are connecting to Esri's private Azure OpenAI ChatGPT instance and we are using a GPT-4-32K model."
   ]
  },
  {
   "cell_type": "code",
   "execution_count": null,
   "id": "295e398c-1230-4bdd-b57d-ae3bb95559a7",
   "metadata": {},
   "outputs": [],
   "source": [
    "llm = AzureChatOpenAI(\n",
    "    base_url=os.environ[\"AZURE_ENDPOINT\"],\n",
    "    openai_api_key=os.environ[\"OPENAI_API_KEY\"],\n",
    "    openai_api_type=\"azure\",\n",
    "    openai_api_version=\"2023-07-01-preview\",\n",
    "    deployment_name=\"gpt-4-32k\",\n",
    "    temperature=0.0,\n",
    ")"
   ]
  },
  {
   "cell_type": "markdown",
   "id": "fe69ae9e-6a53-41c6-8b3e-d271347b9de1",
   "metadata": {},
   "source": [
    "## Active partial functions for Spark DataFrame."
   ]
  },
  {
   "cell_type": "code",
   "execution_count": null,
   "id": "79edb47e-cdf7-4e28-a110-a7164692c8eb",
   "metadata": {},
   "outputs": [],
   "source": [
    "spark_ai = SparkAI(llm=llm)\n",
    "spark_ai.activate()  "
   ]
  },
  {
   "cell_type": "markdown",
   "id": "975220aa-9bf1-400a-a6c3-26ad631f3923",
   "metadata": {},
   "source": [
    "## Create a Spark dataframe from HERE Traffic CSV file."
   ]
  },
  {
   "cell_type": "code",
   "execution_count": null,
   "id": "41145312-e724-4f2e-acd0-7675cb2f729d",
   "metadata": {},
   "outputs": [],
   "source": [
    "csv_path = \"HERE_20M.csv\"  # Picked the first 20M records from the HERE dataset.\n",
    "\n",
    "schema = \",\".join(\n",
    "    [\n",
    "        \"`LINK-DIR` string\",\n",
    "        \"`DATE-TIME` timestamp\",\n",
    "        \"`EPOCH-5MIN` integer\",\n",
    "        \"`LENGTH` double\",\n",
    "        \"`FREEFLOW` double\",\n",
    "        \"`SPDLIMIT` double\",\n",
    "        \"`COUNT` integer\",\n",
    "        \"`MEAN` double\",\n",
    "        \"`STDDEV` double\",\n",
    "        \"`MIN` double\",\n",
    "        \"`MAX` double\",\n",
    "        \"`CONFIDENCE` double\",\n",
    "    ]\n",
    ")\n",
    "\n",
    "df = spark.read.csv(\n",
    "    csv_path,\n",
    "    header=True,\n",
    "    schema=schema,\n",
    "    mode=\"DROPMALFORMED\",\n",
    ").cache()"
   ]
  },
  {
   "cell_type": "markdown",
   "id": "e0be828a-1e0b-4d01-be70-528a9a55adb6",
   "metadata": {},
   "source": [
    "### What is the record count? ما هو عدد السجلات؟"
   ]
  },
  {
   "cell_type": "code",
   "execution_count": null,
   "id": "74db813c-6cc8-4630-ad89-f2fd93a09edd",
   "metadata": {},
   "outputs": [],
   "source": [
    "df.ai.transform(\"ما هو عدد السجلات؟\").show(truncate=False)"
   ]
  },
  {
   "cell_type": "markdown",
   "id": "aabcac58-78f4-4bce-92ce-12ef642e5580",
   "metadata": {},
   "source": [
    "## What are the top 5 busiest hours? ا هي أكثر 5 ساعات ازدحاما؟"
   ]
  },
  {
   "cell_type": "code",
   "execution_count": null,
   "id": "85b184e5-02ec-4d7d-996e-049f3a28ee77",
   "metadata": {},
   "outputs": [],
   "source": [
    "df.ai.transform(\"ما هي أكثر 5 ساعات ازدحاما؟\").show(truncate=False)"
   ]
  },
  {
   "cell_type": "code",
   "execution_count": null,
   "id": "554e9e62-29b4-4e54-ac5b-448e34affe7d",
   "metadata": {},
   "outputs": [],
   "source": [
    "res = df.ai.transform(\n",
    "    \"Please show the count by hour of the day and make sure to order the output by the hour of the day\"\n",
    ")\n",
    "res.show(truncate=False, vertical=False)"
   ]
  },
  {
   "cell_type": "code",
   "execution_count": null,
   "id": "cdcd0e41-8924-48f6-a288-4990d3e56309",
   "metadata": {},
   "outputs": [],
   "source": [
    "res.ai.plot()"
   ]
  },
  {
   "cell_type": "markdown",
   "id": "2ae00f0b-c7f3-4dc1-8777-acababcea1de",
   "metadata": {},
   "source": [
    "### Plot chart of the top 5 busiest hours"
   ]
  },
  {
   "cell_type": "code",
   "execution_count": null,
   "id": "4a1d6462-9d7f-40b3-969a-5a9272291e26",
   "metadata": {},
   "outputs": [],
   "source": [
    "df.ai.plot(\"رسم بياني لأكثر 5 ساعات ازدحامًا\")"
   ]
  }
 ],
 "metadata": {
  "kernelspec": {
   "display_name": "Python 3 (ipykernel)",
   "language": "python",
   "name": "python3"
  },
  "language_info": {
   "codemirror_mode": {
    "name": "ipython",
    "version": 3
   },
   "file_extension": ".py",
   "mimetype": "text/x-python",
   "name": "python",
   "nbconvert_exporter": "python",
   "pygments_lexer": "ipython3",
   "version": "3.10.13"
  }
 },
 "nbformat": 4,
 "nbformat_minor": 5
}
